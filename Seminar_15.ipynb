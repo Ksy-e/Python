{
  "cells": [
    {
      "cell_type": "markdown",
      "source": [
        "##Домашнее здание\n",
        "\n",
        "Напишите код, который запускается из командной строки и получает на вход путь до директории на ПК. Соберите информацию о содержимом в виде объектов namedtuple. Каждый объект хранит:\n",
        "* имя файла без расширения или название каталога,\n",
        "* расширение, если это файл,\n",
        "* флаг каталога,(Является ли директорией, True/False)\n",
        "* название родительского каталога.\n",
        "В процессе сбора сохраните данные в текстовый файл используя логирование."
      ],
      "metadata": {
        "id": "pgM-nghtetqc"
      }
    },
    {
      "cell_type": "code",
      "source": [
        "import logging\n",
        "\n",
        "FORMAT = (\"{asctime} - {levelname}: {msg}\")\n",
        "\n",
        "logging.basicConfig(filename='hw15t01_file_list.txt', filemode='w', format=FORMAT, style='{', level=logging.NOTSET)\n",
        "common_log = logging.getLogger()\n",
        "\n",
        "if __name__ == '__main__':\n",
        "    print(\"Not for separate use\")"
      ],
      "metadata": {
        "colab": {
          "base_uri": "https://localhost:8080/"
        },
        "id": "njKMMjk7e2Z-",
        "outputId": "838d27df-8e73-49ea-9212-2aa629213224"
      },
      "execution_count": 6,
      "outputs": [
        {
          "output_type": "stream",
          "name": "stdout",
          "text": [
            "Not for separate use\n"
          ]
        }
      ]
    },
    {
      "cell_type": "code",
      "source": [
        "from collections import namedtuple\n",
        "import  os\n",
        "##from Seminar_15.common_log_util import common_log\n",
        "\n",
        "FSObject = namedtuple('FSObject', 'name ext is_dir parent', defaults=['', '', False, ''])   # (имя файла, расширение, директория или нет, родительская директория) - кортеж\n",
        "\n",
        "def walk_dir(path_string: str):\n",
        "    fs_objects = []\n",
        "    if not path_string:\n",
        "        path_string = os.getcwd()\n",
        "        common_log.warning(f'Путь установлен по умолчанию {path_string}')\n",
        "    path_string = os.path.abspath(path_string)\n",
        "    parent = path_string.rstrip('/').rsplit('/', 1)[1]          # получаем абсолютный путь\n",
        "    try:\n",
        "        for item in os.listdir(path_string):\n",
        "            obj_name, obj_ext = None, None\n",
        "            item: str = item.rsplit('/',1)[1]\n",
        "            if item.rfind('.') != -1 and not item.startswith('.'):\n",
        "                obj_name, obj_ext = item.rsplit('.', 1)\n",
        "            else:\n",
        "                obj_name = item\n",
        "            fs_objects.append(FSObject(name=obj_name, ext=obj_ext, parent=parent, is_dir=False))\n",
        "        common_log.info(msg=str(fs_objects[-1]))\n",
        "    except Exception as exc:\n",
        "        print(f'\\033[31mERRORR: {exc.__class__.name__}: {exc}\\033[0m')\n",
        "        common_log.error(msg=f'{exc.__class__.name__}: {exc}')\n",
        "    return fs_objects                                   # список наименованных кортежей\n",
        "\n",
        "if __name__ == '__main__':\n",
        "    print('Not for separate use')"
      ],
      "metadata": {
        "colab": {
          "base_uri": "https://localhost:8080/"
        },
        "id": "wnqTxhsFfBJI",
        "outputId": "56ca63af-149d-4778-d361-0f5a93cef0f0"
      },
      "execution_count": 8,
      "outputs": [
        {
          "output_type": "stream",
          "name": "stdout",
          "text": [
            "Not for separate use\n"
          ]
        }
      ]
    },
    {
      "cell_type": "code",
      "source": [
        "import  argparse\n",
        "\n",
        "def parse_ars():\n",
        "    parser = argparse.ArgumentParser(description=\"hw15t01_s15t06\")\n",
        "    parser.add_argument('-p', metavar='path', type=str, nargs='*', default='.', help='введите путь к директорию')\n",
        "    args = parser.parse_args()\n",
        "    return args.p\n",
        "\n",
        "def main():\n",
        "    for place in parse_ars():\n",
        "        for item in (walk_dir(place)):\n",
        "            print(repr(item))\n",
        "\n",
        "if __name__ == '__main__':\n",
        "    main()"
      ],
      "metadata": {
        "id": "pCKK7xJTfG3P"
      },
      "execution_count": null,
      "outputs": []
    }
  ],
  "metadata": {
    "kernelspec": {
      "display_name": "Python 3",
      "name": "python3"
    },
    "language_info": {
      "codemirror_mode": {
        "name": "ipython",
        "version": 3
      },
      "file_extension": ".py",
      "mimetype": "text/x-python",
      "name": "python",
      "nbconvert_exporter": "python",
      "pygments_lexer": "ipython3",
      "version": "3.7.4"
    },
    "colab": {
      "provenance": []
    }
  },
  "nbformat": 4,
  "nbformat_minor": 0
}